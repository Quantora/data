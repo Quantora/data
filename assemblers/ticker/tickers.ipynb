{
 "cells": [
  {
   "cell_type": "code",
   "execution_count": 1,
   "metadata": {},
   "outputs": [],
   "source": [
    "from __future__ import annotations\n",
    "\n",
    "from dotenv import load_dotenv\n",
    "load_dotenv()\n",
    "\n",
    "import os\n",
    "import multiprocess\n",
    "import pandas as pd\n",
    "import tqdm.notebook as tqdm\n",
    "import loaders\n",
    "\n",
    "from typing import Any"
   ]
  },
  {
   "cell_type": "code",
   "execution_count": 2,
   "metadata": {},
   "outputs": [
    {
     "data": {
      "text/plain": [
       "5642"
      ]
     },
     "execution_count": 2,
     "metadata": {},
     "output_type": "execute_result"
    }
   ],
   "source": [
    "tickers = loaders.ticker.load_all(market='stocks', type='CS')\n",
    "len(tickers)"
   ]
  },
  {
   "cell_type": "code",
   "execution_count": 3,
   "metadata": {},
   "outputs": [],
   "source": [
    "def load_ticker_details(ticker: str) -> dict[str, Any] | None:\n",
    "    import loaders\n",
    "\n",
    "    try:\n",
    "        details = loaders.ticker.load_details(ticker)\n",
    "        return details\n",
    "    except Exception as e:\n",
    "        return None"
   ]
  },
  {
   "cell_type": "code",
   "execution_count": 4,
   "metadata": {},
   "outputs": [
    {
     "data": {
      "application/vnd.jupyter.widget-view+json": {
       "model_id": "cb14e0f09696417d841347c395a29874",
       "version_major": 2,
       "version_minor": 0
      },
      "text/plain": [
       "  0%|          | 0/5642 [00:00<?, ?it/s]"
      ]
     },
     "metadata": {},
     "output_type": "display_data"
    }
   ],
   "source": [
    "CPU_COUNT = os.cpu_count()\n",
    "ctx = multiprocess.get_context('spawn') # type: ignore\n",
    "\n",
    "with ctx.Pool(CPU_COUNT) as pool:\n",
    "    iterator = pool.imap(load_ticker_details, tickers)\n",
    "    tickers_with_details = list(tqdm.tqdm(iterator, total=len(tickers)))\n",
    "\n",
    "tickers_with_details = ([\n",
    "    ticker_with_details \n",
    "    for ticker_with_details \n",
    "    in tickers_with_details \n",
    "    if ticker_with_details is not None\n",
    "])"
   ]
  },
  {
   "cell_type": "code",
   "execution_count": 5,
   "metadata": {},
   "outputs": [
    {
     "data": {
      "text/html": [
       "<div>\n",
       "<style scoped>\n",
       "    .dataframe tbody tr th:only-of-type {\n",
       "        vertical-align: middle;\n",
       "    }\n",
       "\n",
       "    .dataframe tbody tr th {\n",
       "        vertical-align: top;\n",
       "    }\n",
       "\n",
       "    .dataframe thead th {\n",
       "        text-align: right;\n",
       "    }\n",
       "</style>\n",
       "<table border=\"1\" class=\"dataframe\">\n",
       "  <thead>\n",
       "    <tr style=\"text-align: right;\">\n",
       "      <th></th>\n",
       "      <th>ticker</th>\n",
       "      <th>name</th>\n",
       "      <th>listed_date</th>\n",
       "      <th>sic_code</th>\n",
       "      <th>market_cap</th>\n",
       "      <th>weighted_shares</th>\n",
       "    </tr>\n",
       "  </thead>\n",
       "  <tbody>\n",
       "    <tr>\n",
       "      <th>0</th>\n",
       "      <td>A</td>\n",
       "      <td>Agilent Technologies Inc.</td>\n",
       "      <td>1999-11-18</td>\n",
       "      <td>3826</td>\n",
       "      <td>4.372096e+10</td>\n",
       "      <td>296072040.0</td>\n",
       "    </tr>\n",
       "    <tr>\n",
       "      <th>1</th>\n",
       "      <td>AA</td>\n",
       "      <td>Alcoa Corporation</td>\n",
       "      <td>2016-10-18</td>\n",
       "      <td>3334</td>\n",
       "      <td>8.202807e+09</td>\n",
       "      <td>176937165.0</td>\n",
       "    </tr>\n",
       "    <tr>\n",
       "      <th>2</th>\n",
       "      <td>AAC</td>\n",
       "      <td>Ares Acquisition Corporation</td>\n",
       "      <td>2021-03-25</td>\n",
       "      <td>6770</td>\n",
       "      <td>1.263750e+09</td>\n",
       "      <td>125000000.0</td>\n",
       "    </tr>\n",
       "    <tr>\n",
       "      <th>3</th>\n",
       "      <td>AACI</td>\n",
       "      <td>Armada Acquisition Corp. I Common Stock</td>\n",
       "      <td>2021-11-10</td>\n",
       "      <td>6770</td>\n",
       "      <td>2.104085e+08</td>\n",
       "      <td>20709500.0</td>\n",
       "    </tr>\n",
       "    <tr>\n",
       "      <th>4</th>\n",
       "      <td>AADI</td>\n",
       "      <td>Aadi Bioscience, Inc. Common Stock</td>\n",
       "      <td>2021-08-27</td>\n",
       "      <td>2834</td>\n",
       "      <td>3.046950e+08</td>\n",
       "      <td>24395117.0</td>\n",
       "    </tr>\n",
       "    <tr>\n",
       "      <th>...</th>\n",
       "      <td>...</td>\n",
       "      <td>...</td>\n",
       "      <td>...</td>\n",
       "      <td>...</td>\n",
       "      <td>...</td>\n",
       "      <td>...</td>\n",
       "    </tr>\n",
       "    <tr>\n",
       "      <th>5637</th>\n",
       "      <td>ZVSA</td>\n",
       "      <td>ZyVersa Therapeutics, Inc. Common Stock</td>\n",
       "      <td>2022-12-13</td>\n",
       "      <td>2834</td>\n",
       "      <td>1.462189e+07</td>\n",
       "      <td>9081922.0</td>\n",
       "    </tr>\n",
       "    <tr>\n",
       "      <th>5638</th>\n",
       "      <td>ZWS</td>\n",
       "      <td>Zurn Elkay Water Solutions Corporation</td>\n",
       "      <td>2012-03-29</td>\n",
       "      <td>3560</td>\n",
       "      <td>3.952374e+09</td>\n",
       "      <td>177794600.0</td>\n",
       "    </tr>\n",
       "    <tr>\n",
       "      <th>5639</th>\n",
       "      <td>ZYME</td>\n",
       "      <td>Zymeworks Inc.</td>\n",
       "      <td>2017-04-28</td>\n",
       "      <td>2834</td>\n",
       "      <td>4.819218e+08</td>\n",
       "      <td>62996314.0</td>\n",
       "    </tr>\n",
       "    <tr>\n",
       "      <th>5640</th>\n",
       "      <td>ZYNE</td>\n",
       "      <td>Zynerba Pharmaceuticals, Inc</td>\n",
       "      <td>2015-08-05</td>\n",
       "      <td>2834</td>\n",
       "      <td>2.550799e+07</td>\n",
       "      <td>47062711.0</td>\n",
       "    </tr>\n",
       "    <tr>\n",
       "      <th>5641</th>\n",
       "      <td>ZYXI</td>\n",
       "      <td>ZYNEX INC</td>\n",
       "      <td>2019-02-12</td>\n",
       "      <td>3845</td>\n",
       "      <td>6.025250e+08</td>\n",
       "      <td>38500000.0</td>\n",
       "    </tr>\n",
       "  </tbody>\n",
       "</table>\n",
       "<p>5642 rows × 6 columns</p>\n",
       "</div>"
      ],
      "text/plain": [
       "     ticker                                     name listed_date sic_code  \\\n",
       "0         A                Agilent Technologies Inc.  1999-11-18     3826   \n",
       "1        AA                        Alcoa Corporation  2016-10-18     3334   \n",
       "2       AAC             Ares Acquisition Corporation  2021-03-25     6770   \n",
       "3      AACI  Armada Acquisition Corp. I Common Stock  2021-11-10     6770   \n",
       "4      AADI       Aadi Bioscience, Inc. Common Stock  2021-08-27     2834   \n",
       "...     ...                                      ...         ...      ...   \n",
       "5637   ZVSA  ZyVersa Therapeutics, Inc. Common Stock  2022-12-13     2834   \n",
       "5638    ZWS   Zurn Elkay Water Solutions Corporation  2012-03-29     3560   \n",
       "5639   ZYME                           Zymeworks Inc.  2017-04-28     2834   \n",
       "5640   ZYNE             Zynerba Pharmaceuticals, Inc  2015-08-05     2834   \n",
       "5641   ZYXI                                ZYNEX INC  2019-02-12     3845   \n",
       "\n",
       "        market_cap  weighted_shares  \n",
       "0     4.372096e+10      296072040.0  \n",
       "1     8.202807e+09      176937165.0  \n",
       "2     1.263750e+09      125000000.0  \n",
       "3     2.104085e+08       20709500.0  \n",
       "4     3.046950e+08       24395117.0  \n",
       "...            ...              ...  \n",
       "5637  1.462189e+07        9081922.0  \n",
       "5638  3.952374e+09      177794600.0  \n",
       "5639  4.819218e+08       62996314.0  \n",
       "5640  2.550799e+07       47062711.0  \n",
       "5641  6.025250e+08       38500000.0  \n",
       "\n",
       "[5642 rows x 6 columns]"
      ]
     },
     "execution_count": 5,
     "metadata": {},
     "output_type": "execute_result"
    }
   ],
   "source": [
    "df = pd.DataFrame(tickers_with_details)\n",
    "df.to_csv('../../stock-tickers.csv', index=False)\n",
    "\n",
    "df"
   ]
  }
 ],
 "metadata": {
  "kernelspec": {
   "display_name": "data-UFpCDBEn",
   "language": "python",
   "name": "python3"
  },
  "language_info": {
   "codemirror_mode": {
    "name": "ipython",
    "version": 3
   },
   "file_extension": ".py",
   "mimetype": "text/x-python",
   "name": "python",
   "nbconvert_exporter": "python",
   "pygments_lexer": "ipython3",
   "version": "3.9.16"
  },
  "orig_nbformat": 4,
  "vscode": {
   "interpreter": {
    "hash": "bb334d500db14359225ccc9f2ff5ebf1691372729956694a383281023cbc9b6d"
   }
  }
 },
 "nbformat": 4,
 "nbformat_minor": 2
}
